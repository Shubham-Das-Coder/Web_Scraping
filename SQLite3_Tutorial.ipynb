{
 "cells": [
  {
   "cell_type": "code",
   "execution_count": 1,
   "id": "c3b1ec76",
   "metadata": {},
   "outputs": [],
   "source": [
    "import sqlite3"
   ]
  },
  {
   "cell_type": "code",
   "execution_count": 2,
   "id": "8732fe9e",
   "metadata": {},
   "outputs": [],
   "source": [
    "conn=sqlite3.connect('lunch.db')"
   ]
  },
  {
   "cell_type": "code",
   "execution_count": 3,
   "id": "c8c78b45",
   "metadata": {},
   "outputs": [],
   "source": [
    "c=conn.cursor()"
   ]
  },
  {
   "cell_type": "code",
   "execution_count": 4,
   "id": "6593385c",
   "metadata": {},
   "outputs": [
    {
     "data": {
      "text/plain": [
       "<sqlite3.Cursor at 0x1851367b810>"
      ]
     },
     "execution_count": 4,
     "metadata": {},
     "output_type": "execute_result"
    }
   ],
   "source": [
    "c.execute('''CREATE TABLE meals(sandwich TEXT,fruit TEXT,tablenumber INT)''')"
   ]
  },
  {
   "cell_type": "code",
   "execution_count": 5,
   "id": "baa9ba4e",
   "metadata": {},
   "outputs": [],
   "source": [
    "sandwich='ham'\n",
    "fruit='apple'\n",
    "tablenumber=21"
   ]
  },
  {
   "cell_type": "code",
   "execution_count": 6,
   "id": "3d9da5b8",
   "metadata": {},
   "outputs": [
    {
     "data": {
      "text/plain": [
       "<sqlite3.Cursor at 0x1851367b810>"
      ]
     },
     "execution_count": 6,
     "metadata": {},
     "output_type": "execute_result"
    }
   ],
   "source": [
    "c.execute('''INSERT INTO meals VALUES(?,?,?)''',(sandwich,fruit,tablenumber))"
   ]
  },
  {
   "cell_type": "code",
   "execution_count": 7,
   "id": "65b73530",
   "metadata": {},
   "outputs": [],
   "source": [
    "conn.commit()"
   ]
  },
  {
   "cell_type": "code",
   "execution_count": 8,
   "id": "e6caa7ca",
   "metadata": {},
   "outputs": [
    {
     "name": "stdout",
     "output_type": "stream",
     "text": [
      "[('ham', 'apple', 21)]\n"
     ]
    }
   ],
   "source": [
    "c.execute('''SELECT * FROM meals''')\n",
    "results=c.fetchall()\n",
    "print(results)"
   ]
  },
  {
   "cell_type": "code",
   "execution_count": 9,
   "id": "a497a357",
   "metadata": {},
   "outputs": [],
   "source": [
    "sandwich='chicken'\n",
    "fruit='banana'\n",
    "tablenumber=22"
   ]
  },
  {
   "cell_type": "code",
   "execution_count": 10,
   "id": "adc3d331",
   "metadata": {},
   "outputs": [
    {
     "data": {
      "text/plain": [
       "<sqlite3.Cursor at 0x1851367b810>"
      ]
     },
     "execution_count": 10,
     "metadata": {},
     "output_type": "execute_result"
    }
   ],
   "source": [
    "c.execute('''INSERT INTO meals VALUES(?,?,?)''',(sandwich,fruit,tablenumber))"
   ]
  },
  {
   "cell_type": "code",
   "execution_count": 11,
   "id": "11256d77",
   "metadata": {},
   "outputs": [],
   "source": [
    "conn.commit()"
   ]
  },
  {
   "cell_type": "code",
   "execution_count": 12,
   "id": "34ad8aa7",
   "metadata": {},
   "outputs": [
    {
     "name": "stdout",
     "output_type": "stream",
     "text": [
      "[('ham', 'apple', 21), ('chicken', 'banana', 22)]\n"
     ]
    }
   ],
   "source": [
    "c.execute('''SELECT * FROM meals''')\n",
    "results=c.fetchall()\n",
    "print(results)"
   ]
  },
  {
   "cell_type": "code",
   "execution_count": 13,
   "id": "a293be7b",
   "metadata": {},
   "outputs": [],
   "source": [
    "sandwich='jam'\n",
    "fruit='orange'\n",
    "tablenumber=23"
   ]
  },
  {
   "cell_type": "code",
   "execution_count": 14,
   "id": "b75bc9af",
   "metadata": {},
   "outputs": [
    {
     "data": {
      "text/plain": [
       "<sqlite3.Cursor at 0x1851367b810>"
      ]
     },
     "execution_count": 14,
     "metadata": {},
     "output_type": "execute_result"
    }
   ],
   "source": [
    "c.execute('''INSERT INTO meals VALUES(?,?,?)''',(sandwich,fruit,tablenumber))"
   ]
  },
  {
   "cell_type": "code",
   "execution_count": 15,
   "id": "005eeedb",
   "metadata": {},
   "outputs": [],
   "source": [
    "conn.commit()"
   ]
  },
  {
   "cell_type": "code",
   "execution_count": 16,
   "id": "0d67ee36",
   "metadata": {},
   "outputs": [
    {
     "name": "stdout",
     "output_type": "stream",
     "text": [
      "[('ham', 'apple', 21), ('chicken', 'banana', 22), ('jam', 'orange', 23)]\n"
     ]
    }
   ],
   "source": [
    "c.execute('''SELECT * FROM meals''')\n",
    "results=c.fetchall()\n",
    "print(results)"
   ]
  },
  {
   "cell_type": "code",
   "execution_count": 17,
   "id": "eaca3088",
   "metadata": {},
   "outputs": [
    {
     "name": "stdout",
     "output_type": "stream",
     "text": [
      "[('apple',), ('banana',), ('orange',)]\n"
     ]
    }
   ],
   "source": [
    "c.execute('''SELECT fruit FROM meals''')\n",
    "results=c.fetchall()\n",
    "print(results)"
   ]
  },
  {
   "cell_type": "code",
   "execution_count": 18,
   "id": "58299a5a",
   "metadata": {},
   "outputs": [
    {
     "name": "stdout",
     "output_type": "stream",
     "text": [
      "[('ham',), ('chicken',), ('jam',)]\n"
     ]
    }
   ],
   "source": [
    "c.execute('''SELECT sandwich FROM meals''')\n",
    "results=c.fetchall()\n",
    "print(results)"
   ]
  }
 ],
 "metadata": {
  "kernelspec": {
   "display_name": "Python 3",
   "language": "python",
   "name": "python3"
  },
  "language_info": {
   "codemirror_mode": {
    "name": "ipython",
    "version": 3
   },
   "file_extension": ".py",
   "mimetype": "text/x-python",
   "name": "python",
   "nbconvert_exporter": "python",
   "pygments_lexer": "ipython3",
   "version": "3.8.8"
  }
 },
 "nbformat": 4,
 "nbformat_minor": 5
}
